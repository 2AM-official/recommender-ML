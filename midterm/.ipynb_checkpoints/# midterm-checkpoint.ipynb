{
 "cells": [
  {
   "cell_type": "code",
   "execution_count": 1,
   "metadata": {},
   "outputs": [],
   "source": [
    "import gzip\n",
    "from collections import defaultdict\n",
    "import math\n",
    "import scipy.optimize\n",
    "import numpy\n",
    "import string\n",
    "import random\n",
    "import dateutil.parser\n",
    "from sklearn import linear_model"
   ]
  },
  {
   "cell_type": "code",
   "execution_count": 2,
   "metadata": {},
   "outputs": [],
   "source": [
    "def parse(f):\n",
    "    for l in gzip.open(f):\n",
    "        yield eval(l)"
   ]
  },
  {
   "cell_type": "code",
   "execution_count": 3,
   "metadata": {},
   "outputs": [],
   "source": [
    "# Download data from below:\n",
    "# https://cseweb.ucsd.edu/classes/fa21/cse258-b/files/\n",
    "dataset = list(parse(\"trainRecipes.json.gz\"))"
   ]
  },
  {
   "cell_type": "code",
   "execution_count": 4,
   "metadata": {},
   "outputs": [
    {
     "data": {
      "text/plain": [
       "200000"
      ]
     },
     "execution_count": 4,
     "metadata": {},
     "output_type": "execute_result"
    }
   ],
   "source": [
    "len(dataset)"
   ]
  },
  {
   "cell_type": "code",
   "execution_count": 5,
   "metadata": {},
   "outputs": [],
   "source": [
    "train = dataset[:150000]\n",
    "valid = dataset[150000:175000]\n",
    "test = dataset[175000:]"
   ]
  },
  {
   "cell_type": "code",
   "execution_count": 6,
   "metadata": {},
   "outputs": [
    {
     "data": {
      "text/plain": [
       "{'name': 'double delicious cookie bars',\n",
       " 'minutes': 40,\n",
       " 'contributor_id': '26865936',\n",
       " 'submitted': '2007-08-27',\n",
       " 'steps': 'preheat oven to 350f\\tin 13x9-inch baking pan , melt butter in oven\\tsprinkle crumbs evenly over butter\\tpour milk evenly over crumbs\\ttop with remaining ingredients\\tpress down firmly\\tbake 25-30 minutes or until lightly browned\\tcool completely , chill if desired , and cut into bars',\n",
       " 'description': 'from \"all time favorite recipes\". for fun, try substituting butterscotch or white chocolate chips for the semi-sweet and/or peanut butter chips. make sure you cool it completely or the bottom will crumble!',\n",
       " 'ingredients': ['butter',\n",
       "  'graham cracker crumbs',\n",
       "  'sweetened condensed milk',\n",
       "  'semi-sweet chocolate chips',\n",
       "  'peanut butter chips'],\n",
       " 'recipe_id': '98015212'}"
      ]
     },
     "execution_count": 6,
     "metadata": {},
     "output_type": "execute_result"
    }
   ],
   "source": [
    "dataset[1]"
   ]
  },
  {
   "cell_type": "markdown",
   "metadata": {},
   "source": [
    "## Section 1\n",
    "### Question 1 (a)"
   ]
  },
  {
   "cell_type": "code",
   "execution_count": 7,
   "metadata": {},
   "outputs": [
    {
     "name": "stdout",
     "output_type": "stream",
     "text": [
      "[743, 9]\n"
     ]
    }
   ],
   "source": [
    "# feature 1 (a) use the length of the recipe\n",
    "def feat1a(d):\n",
    "    length_step = len(d['steps'])\n",
    "    length_ingredients = len(d['ingredients'])\n",
    "    return [length_step, length_ingredients]\n",
    "X = [feat1a(d) for d in dataset]\n",
    "print(X[0])"
   ]
  },
  {
   "cell_type": "markdown",
   "metadata": {},
   "source": [
    "### Question 1 (b)"
   ]
  },
  {
   "cell_type": "code",
   "execution_count": 8,
   "metadata": {},
   "outputs": [],
   "source": [
    "for d in dataset:\n",
    "    t = dateutil.parser.parse(d['submitted'])\n",
    "    d['submitted'] = t"
   ]
  },
  {
   "cell_type": "code",
   "execution_count": 9,
   "metadata": {},
   "outputs": [
    {
     "data": {
      "text/plain": [
       "datetime.datetime(2004, 5, 21, 0, 0)"
      ]
     },
     "execution_count": 9,
     "metadata": {},
     "output_type": "execute_result"
    }
   ],
   "source": [
    "dataset[0]['submitted']"
   ]
  },
  {
   "cell_type": "code",
   "execution_count": 10,
   "metadata": {},
   "outputs": [],
   "source": [
    "min_year = min([d['submitted'].year for d in dataset])\n",
    "max_year = max([d['submitted'].year for d in dataset])"
   ]
  },
  {
   "cell_type": "code",
   "execution_count": 11,
   "metadata": {},
   "outputs": [
    {
     "data": {
      "text/plain": [
       "(1999, 2018)"
      ]
     },
     "execution_count": 11,
     "metadata": {},
     "output_type": "execute_result"
    }
   ],
   "source": [
    "min_year, max_year"
   ]
  },
  {
   "cell_type": "code",
   "execution_count": 12,
   "metadata": {},
   "outputs": [
    {
     "data": {
      "text/plain": [
       "20"
      ]
     },
     "execution_count": 12,
     "metadata": {},
     "output_type": "execute_result"
    }
   ],
   "source": [
    "year_length = max_year - min_year + 1\n",
    "year_length"
   ]
  },
  {
   "cell_type": "code",
   "execution_count": 13,
   "metadata": {},
   "outputs": [],
   "source": [
    "# feature 1 b\n",
    "def feat1b(d):\n",
    "    month = [0]*12\n",
    "    pd = d['submitted']\n",
    "    month[pd.month-1] = 1\n",
    "    year = [0]*year_length\n",
    "    year[pd.year - min_year] = 1\n",
    "    return month[:-1] + year[:-1]"
   ]
  },
  {
   "cell_type": "code",
   "execution_count": 14,
   "metadata": {},
   "outputs": [
    {
     "name": "stdout",
     "output_type": "stream",
     "text": [
      "[0, 0, 0, 0, 1, 0, 0, 0, 0, 0, 0, 0, 0, 0, 0, 0, 1, 0, 0, 0, 0, 0, 0, 0, 0, 0, 0, 0, 0, 0]\n"
     ]
    }
   ],
   "source": [
    "X = [feat1b(d) for d in dataset]\n",
    "print(X[0])"
   ]
  },
  {
   "cell_type": "markdown",
   "metadata": {},
   "source": [
    "### Question 1(c)"
   ]
  },
  {
   "cell_type": "code",
   "execution_count": 15,
   "metadata": {},
   "outputs": [],
   "source": [
    "recipeCount = defaultdict(int)\n",
    "def popular(dataset):\n",
    "    for d in dataset:\n",
    "        for recipe in d['ingredients']:\n",
    "            recipeCount[recipe] += 1\n",
    "    mostPopular = [(recipeCount[x], x) for x in recipeCount]\n",
    "    mostPopular.sort()\n",
    "    mostPopular.reverse()\n",
    "    return mostPopular"
   ]
  },
  {
   "cell_type": "code",
   "execution_count": 16,
   "metadata": {},
   "outputs": [],
   "source": [
    "mostPopular = popular(dataset)\n",
    "mostPopular1 = mostPopular[:50]"
   ]
  },
  {
   "cell_type": "code",
   "execution_count": 17,
   "metadata": {},
   "outputs": [
    {
     "name": "stdout",
     "output_type": "stream",
     "text": [
      "[0, 0, 0, 0, 0, 0, 1, 0, 0, 0, 0, 0, 0, 0, 0, 1, 1, 0, 0, 0, 0, 0, 0, 0, 0, 0, 0, 0, 0, 0, 1, 0, 0, 0, 0, 0, 0, 0, 0, 0, 0, 0, 0, 0, 0, 0, 0, 0, 0, 0]\n"
     ]
    }
   ],
   "source": [
    "# feature 1 c\n",
    "def feat1c(d):\n",
    "    ingredients = [0]*50\n",
    "    for pd in d['ingredients']:\n",
    "        for i in range(50):\n",
    "            if pd == mostPopular[i][1]:\n",
    "                ingredients[i] = 1\n",
    "    return ingredients\n",
    "X = [feat1c(d) for d in dataset]\n",
    "print(X[0])"
   ]
  },
  {
   "cell_type": "markdown",
   "metadata": {},
   "source": [
    "Use function to represent feature a, b, c"
   ]
  },
  {
   "cell_type": "code",
   "execution_count": 18,
   "metadata": {},
   "outputs": [],
   "source": [
    "def feat(d, a, b, c):\n",
    "    X = [1]\n",
    "    if (a == True):\n",
    "        X = X + feat1a(d)\n",
    "    if (b == True):\n",
    "        X = X + feat1b(d)\n",
    "    if (c == True):\n",
    "        X = X + feat1c(d)\n",
    "    return X"
   ]
  },
  {
   "cell_type": "code",
   "execution_count": 19,
   "metadata": {},
   "outputs": [],
   "source": [
    "def experiment(a, b, c, mod):\n",
    "    X = [feat(d, a, b, c) for d in dataset]\n",
    "    Y = [d['minutes'] for d in dataset]\n",
    "    Xtrain = X[:150000]\n",
    "    Xtest = X[175000:]\n",
    "    Ytrain = Y[:150000]\n",
    "    Ytest = Y[175000:]\n",
    "    \n",
    "    mod.fit(Xtrain,Ytrain)\n",
    "    Ypred = mod.predict(Xtest)\n",
    "    MSE = sum([(yp - yt)**2 for (yp,yt) in zip(Ypred, Ytest)]) / len(Ytest)\n",
    "\n",
    "    print(\"test MSE = \" + str(MSE))"
   ]
  },
  {
   "cell_type": "code",
   "execution_count": 20,
   "metadata": {},
   "outputs": [
    {
     "name": "stdout",
     "output_type": "stream",
     "text": [
      "The MSE when using 1(a) feature\n",
      "test MSE = 6169.549296366476\n"
     ]
    }
   ],
   "source": [
    "# MSE of feature 1(a)\n",
    "print(\"The MSE when using 1(a) feature\")\n",
    "experiment(True, False, False, linear_model.LinearRegression())"
   ]
  },
  {
   "cell_type": "code",
   "execution_count": 21,
   "metadata": {},
   "outputs": [
    {
     "name": "stdout",
     "output_type": "stream",
     "text": [
      "The MSE when using 1(b) feature\n",
      "test MSE = 6396.833687711828\n"
     ]
    }
   ],
   "source": [
    "# MSE of feature 1(b)\n",
    "print(\"The MSE when using 1(b) feature\")\n",
    "experiment(False, True, False, linear_model.LinearRegression())"
   ]
  },
  {
   "cell_type": "code",
   "execution_count": 22,
   "metadata": {},
   "outputs": [
    {
     "name": "stdout",
     "output_type": "stream",
     "text": [
      "The MSE when using 1(c) feature\n",
      "test MSE = 6000.948439855985\n"
     ]
    }
   ],
   "source": [
    "# MSE of feature 1(c)\n",
    "print(\"The MSE when using 1(c) feature\")\n",
    "experiment(False, False, True, linear_model.LinearRegression())"
   ]
  },
  {
   "cell_type": "markdown",
   "metadata": {},
   "source": [
    "### Question 2"
   ]
  },
  {
   "cell_type": "code",
   "execution_count": 23,
   "metadata": {},
   "outputs": [
    {
     "name": "stdout",
     "output_type": "stream",
     "text": [
      "The MSE when using 1(a) and 1 (b) feature\n",
      "test MSE = 6157.7540943661925\n"
     ]
    }
   ],
   "source": [
    "# MSE of feature 1(a) and 1 (b)\n",
    "print(\"The MSE when using 1(a) and 1 (b) feature\")\n",
    "experiment(True, True, False, linear_model.LinearRegression())"
   ]
  },
  {
   "cell_type": "code",
   "execution_count": 24,
   "metadata": {},
   "outputs": [
    {
     "name": "stdout",
     "output_type": "stream",
     "text": [
      "The MSE when using 1(a) and 1 (c) feature\n",
      "test MSE = 5870.115061656083\n"
     ]
    }
   ],
   "source": [
    "# MSE of feature 1(a) and 1 (c)\n",
    "print(\"The MSE when using 1(a) and 1 (c) feature\")\n",
    "experiment(True, False, True, linear_model.LinearRegression())"
   ]
  },
  {
   "cell_type": "code",
   "execution_count": 25,
   "metadata": {},
   "outputs": [
    {
     "name": "stdout",
     "output_type": "stream",
     "text": [
      "The MSE when using 1(b) and 1 (c) feature\n",
      "test MSE = 5992.663510100711\n"
     ]
    }
   ],
   "source": [
    "# MSE of feature 1(b) and 1 (c)\n",
    "print(\"The MSE when using 1(b) and 1 (c) feature\")\n",
    "experiment(False, True, True, linear_model.LinearRegression())"
   ]
  },
  {
   "cell_type": "code",
   "execution_count": 26,
   "metadata": {},
   "outputs": [
    {
     "name": "stdout",
     "output_type": "stream",
     "text": [
      "The MSE when using all features\n",
      "test MSE = 5861.253905671346\n"
     ]
    }
   ],
   "source": [
    "# MSE of all features\n",
    "print(\"The MSE when using all features\")\n",
    "experiment(True, True, True, linear_model.LinearRegression())"
   ]
  },
  {
   "cell_type": "markdown",
   "metadata": {},
   "source": [
    "from the above test, we can find that feature extracted from c is the most import"
   ]
  },
  {
   "cell_type": "markdown",
   "metadata": {},
   "source": [
    "### Question 4"
   ]
  },
  {
   "cell_type": "markdown",
   "metadata": {},
   "source": [
    "(1) For the first implementation, we can simply delete the instances which is unusual in the dataset, such as the instances whose cooking time is over 8 hours. We can set up a range, and the instances whose cooking time is not in the range will be deleted from the dataset. This is convenient and efficient."
   ]
  },
  {
   "cell_type": "markdown",
   "metadata": {},
   "source": [
    "(2) For the second implementation, we can transform the variable $y$, for example, transformation such that $y' = log(y)$ to make it less prone to outliers like cooking time over 8 hours"
   ]
  },
  {
   "cell_type": "markdown",
   "metadata": {},
   "source": [
    "(3) For the third implementation, instead of regression, we can build this problem as a classification issue. For example, predict whether $y$ is above or below a certain minute to improve the result."
   ]
  },
  {
   "cell_type": "markdown",
   "metadata": {},
   "source": [
    "## Section 2: Classification\n",
    "### Question 5"
   ]
  },
  {
   "cell_type": "code",
   "execution_count": 27,
   "metadata": {},
   "outputs": [],
   "source": [
    "def feat1c_question2(d):\n",
    "    ingredients = [0]*50\n",
    "    for pd in d['ingredients']:\n",
    "        for i in range(50):\n",
    "            if pd == 'butter':\n",
    "                continue\n",
    "            if pd == mostPopular[i][1]:\n",
    "                ingredients[i] = 1\n",
    "    return ingredients"
   ]
  },
  {
   "cell_type": "code",
   "execution_count": 28,
   "metadata": {},
   "outputs": [],
   "source": [
    "def y_question2(d):\n",
    "    for pd in d['ingredients']:\n",
    "        if pd == 'butter':\n",
    "            return 1\n",
    "    return 0"
   ]
  },
  {
   "cell_type": "code",
   "execution_count": 29,
   "metadata": {},
   "outputs": [],
   "source": [
    "X_question2 = [feat1c_question2(d) for d in dataset]\n",
    "Y_question2 = [y_question2(d) for d in dataset]"
   ]
  },
  {
   "cell_type": "code",
   "execution_count": 30,
   "metadata": {},
   "outputs": [],
   "source": [
    "X_train = X_question2[:150000]\n",
    "y_train = Y_question2[:150000]\n",
    "X_test = X_question2[175000:]\n",
    "y_test = Y_question2[175000:]"
   ]
  },
  {
   "cell_type": "code",
   "execution_count": 31,
   "metadata": {},
   "outputs": [],
   "source": [
    "mod = linear_model.LogisticRegression(C=1.0, class_weight='balanced')\n",
    "mod.fit(X_train, y_train)\n",
    "pred = mod.predict(X_test)\n",
    "correct = pred == y_test"
   ]
  },
  {
   "cell_type": "code",
   "execution_count": 32,
   "metadata": {},
   "outputs": [],
   "source": [
    "TP_ = numpy.logical_and(pred, y_test)\n",
    "FP_ = numpy.logical_and(pred, numpy.logical_not(y_test))\n",
    "TN_ = numpy.logical_and(numpy.logical_not(pred), numpy.logical_not(y_test))\n",
    "FN_ = numpy.logical_and(numpy.logical_not(pred), y_test)\n",
    "\n",
    "TP = sum(TP_)\n",
    "FP = sum(FP_)\n",
    "TN = sum(TN_)\n",
    "FN = sum(FN_)\n",
    "\n",
    "BER = 1 - 0.5 * (TP / (TP + FN) + TN / (TN + FP))"
   ]
  },
  {
   "cell_type": "code",
   "execution_count": 33,
   "metadata": {},
   "outputs": [
    {
     "data": {
      "text/plain": [
       "0.28898437523315856"
      ]
     },
     "execution_count": 33,
     "metadata": {},
     "output_type": "execute_result"
    }
   ],
   "source": [
    "BER"
   ]
  },
  {
   "cell_type": "markdown",
   "metadata": {},
   "source": [
    "### Question 6"
   ]
  },
  {
   "cell_type": "code",
   "execution_count": 34,
   "metadata": {},
   "outputs": [],
   "source": [
    "mostPopular2 = mostPopular[:70]\n",
    "def feat1c_question2(d):\n",
    "    ingredients = [0]*70\n",
    "    for pd in d['ingredients']:\n",
    "        for i in range(70):\n",
    "            if pd == 'butter':\n",
    "                continue\n",
    "            if pd == mostPopular2[i][1]:\n",
    "                ingredients[i] = 1\n",
    "    return ingredients"
   ]
  },
  {
   "cell_type": "code",
   "execution_count": 35,
   "metadata": {},
   "outputs": [
    {
     "name": "stdout",
     "output_type": "stream",
     "text": [
      "When I change the number of ingredients from 50 to 70.\n",
      "BER of validation set: 0.27181412337662336\n",
      "BER of testing set: 0.27340430377454994\n"
     ]
    }
   ],
   "source": [
    "def y_question2(d):\n",
    "    for pd in d['ingredients']:\n",
    "        if pd == 'butter':\n",
    "            return 1\n",
    "    return 0\n",
    "\n",
    "X_question2 = [feat1c_question2(d) for d in dataset]\n",
    "Y_question2 = [y_question2(d) for d in dataset]\n",
    "\n",
    "X_train = X_question2[:150000]\n",
    "y_train = Y_question2[:150000]\n",
    "X_test = X_question2[175000:]\n",
    "y_test = Y_question2[175000:]\n",
    "X_validation = X_question2[150000:175000]\n",
    "y_validation = Y_question2[150000:175000]\n",
    "\n",
    "\n",
    "mod = linear_model.LogisticRegression(C=1.0, class_weight='balanced')\n",
    "mod.fit(X_train, y_train)\n",
    "pred = mod.predict(X_validation)\n",
    "correct = pred == y_validation\n",
    "\n",
    "TP_ = numpy.logical_and(pred, y_validation)\n",
    "FP_ = numpy.logical_and(pred, numpy.logical_not(y_validation))\n",
    "TN_ = numpy.logical_and(numpy.logical_not(pred), numpy.logical_not(y_validation))\n",
    "FN_ = numpy.logical_and(numpy.logical_not(pred), y_validation)\n",
    "\n",
    "TP = sum(TP_)\n",
    "FP = sum(FP_)\n",
    "TN = sum(TN_)\n",
    "FN = sum(FN_)\n",
    "\n",
    "BER = 1 - 0.5 * (TP / (TP + FN) + TN / (TN + FP))\n",
    "print('When I change the number of ingredients from 50 to 70.')\n",
    "print('BER of validation set: ' + str(BER))\n",
    "\n",
    "mod = linear_model.LogisticRegression(C=1.0, class_weight='balanced')\n",
    "mod.fit(X_train, y_train)\n",
    "pred = mod.predict(X_test)\n",
    "correct = pred == y_test\n",
    "\n",
    "TP_ = numpy.logical_and(pred, y_test)\n",
    "FP_ = numpy.logical_and(pred, numpy.logical_not(y_test))\n",
    "TN_ = numpy.logical_and(numpy.logical_not(pred), numpy.logical_not(y_test))\n",
    "FN_ = numpy.logical_and(numpy.logical_not(pred), y_test)\n",
    "\n",
    "TP = sum(TP_)\n",
    "FP = sum(FP_)\n",
    "TN = sum(TN_)\n",
    "FN = sum(FN_)\n",
    "\n",
    "BER = 1 - 0.5 * (TP / (TP + FN) + TN / (TN + FP))\n",
    "\n",
    "print('BER of testing set: ' + str(BER))"
   ]
  },
  {
   "cell_type": "markdown",
   "metadata": {},
   "source": [
    "## Section 3\n",
    "### Question 8"
   ]
  },
  {
   "cell_type": "code",
   "execution_count": 36,
   "metadata": {},
   "outputs": [],
   "source": [
    "from collections import defaultdict\n",
    "usersPerItem = defaultdict(set) # Maps an item to the users who rated it\n",
    "itemsPerUser = defaultdict(set) # Maps a user to the items that they rated\n",
    "\n",
    "for d in dataset:\n",
    "    user,item = d['recipe_id'], d['ingredients']\n",
    "    for pd in item:\n",
    "        usersPerItem[user].add(pd)\n",
    "        itemsPerUser[pd].add(user)"
   ]
  },
  {
   "cell_type": "code",
   "execution_count": 37,
   "metadata": {},
   "outputs": [],
   "source": [
    "def Jaccard(s1, s2):\n",
    "    numer = len(s1.intersection(s2))\n",
    "    denom = len(s1.union(s2))\n",
    "    if denom == 0:\n",
    "        return 0\n",
    "    return numer / denom"
   ]
  },
  {
   "cell_type": "code",
   "execution_count": 38,
   "metadata": {},
   "outputs": [],
   "source": [
    "def mostSimilar(i, N):\n",
    "    similarities = []\n",
    "    users = usersPerItem[i]\n",
    "    for i2 in usersPerItem:\n",
    "        if i2 == i: continue\n",
    "        sim = Jaccard(users, usersPerItem[i2])\n",
    "        similarities.append((sim,i2))\n",
    "    similarities.sort(key = lambda x:(-x[0],x[1]))\n",
    "    return similarities[:N]"
   ]
  },
  {
   "cell_type": "code",
   "execution_count": 39,
   "metadata": {},
   "outputs": [
    {
     "name": "stdout",
     "output_type": "stream",
     "text": [
      "five most similar recipes which are most similar to butter\n"
     ]
    },
    {
     "data": {
      "text/plain": [
       "[(0.4166666666666667, '68523854'),\n",
       " (0.38461538461538464, '12679596'),\n",
       " (0.36363636363636365, '56301588'),\n",
       " (0.36363636363636365, '79675099'),\n",
       " (0.35714285714285715, '87359281')]"
      ]
     },
     "execution_count": 39,
     "metadata": {},
     "output_type": "execute_result"
    }
   ],
   "source": [
    "query = dataset[0]['recipe_id']\n",
    "ms = mostSimilar(query, 5)\n",
    "print('five most similar recipes which are most similar to butter')\n",
    "ms"
   ]
  },
  {
   "cell_type": "markdown",
   "metadata": {},
   "source": [
    "### Question 9"
   ]
  },
  {
   "cell_type": "code",
   "execution_count": 40,
   "metadata": {},
   "outputs": [],
   "source": [
    "def mostSimilarUser(i, N):\n",
    "    similarities = []\n",
    "    items = itemsPerUser[i]\n",
    "    for i2 in itemsPerUser:\n",
    "        if i2 == i: continue\n",
    "        sim = Jaccard(items, itemsPerUser[i2])\n",
    "        #sim = Pearson(i, i2) # Could use alternate similarity metrics straightforwardly\n",
    "        similarities.append((sim,i2))\n",
    "    similarities.sort(key = lambda x:(-x[0],x[1]))\n",
    "    return similarities[:N]"
   ]
  },
  {
   "cell_type": "code",
   "execution_count": 41,
   "metadata": {},
   "outputs": [
    {
     "name": "stdout",
     "output_type": "stream",
     "text": [
      "five ingredients which are most similar to butter\n",
      "[(0.22315311514274808, 'salt'), (0.2056685424969639, 'flour'), (0.19100394157199166, 'eggs'), (0.17882420717656095, 'sugar'), (0.17040052045973944, 'milk')]\n"
     ]
    }
   ],
   "source": [
    "query = 'butter'\n",
    "ms = mostSimilarUser(query, 5)\n",
    "print('five ingredients which are most similar to butter')\n",
    "print(ms)"
   ]
  },
  {
   "cell_type": "markdown",
   "metadata": {},
   "source": [
    "### Question 10"
   ]
  },
  {
   "cell_type": "code",
   "execution_count": 42,
   "metadata": {},
   "outputs": [],
   "source": [
    "from collections import defaultdict\n",
    "usersPerItem = defaultdict(set) # Maps an item to the users who rated it\n",
    "itemsPerUser = defaultdict(set) # Maps a user to the items that they rated\n",
    "\n",
    "for d in dataset:\n",
    "    user,item = d['recipe_id'], d['ingredients']\n",
    "    for pd in item:\n",
    "        usersPerItem[user].add(pd)\n",
    "        itemsPerUser[pd].add(user)"
   ]
  },
  {
   "cell_type": "markdown",
   "metadata": {},
   "source": [
    "Firstly, I used Jaccard similarity to find similar ingredient of the items in query and put them in the recipe as well. Subsequently, I use Jaccard similarity to find the most 10 similar recipes to the recipe I made and this achieves the flexibility needed in this task"
   ]
  },
  {
   "cell_type": "code",
   "execution_count": 43,
   "metadata": {},
   "outputs": [],
   "source": [
    "def similarQuestion10(query):\n",
    "    for pd in query:\n",
    "        usersPerItem['1'].add(pd)\n",
    "        query2 = mostSimilarUser(pd, 1)\n",
    "        for pd2 in query2:\n",
    "            usersPerItem['1'].add(pd2[1])\n",
    "    ms = mostSimilar('1', 10)\n",
    "    returnval = []\n",
    "    for pd3 in ms:\n",
    "        for d in dataset:\n",
    "            if d['recipe_id'] == pd3[1]:\n",
    "                returnval.append((d['recipe_id'], d['ingredients']))\n",
    "    return returnval"
   ]
  },
  {
   "cell_type": "code",
   "execution_count": 44,
   "metadata": {},
   "outputs": [
    {
     "data": {
      "text/plain": [
       "[('22558882', ['vodka', 'cranberry juice']),\n",
       " ('34964059', ['sugar', 'vodka']),\n",
       " ('93617905', ['watermelon', 'vodka', 'lemon juice', 'sugar', 'salt']),\n",
       " ('04595917',\n",
       "  ['red cabbage', 'apple', 'cranberry juice', 'vinegar', 'salt', 'sugar']),\n",
       " ('52087715',\n",
       "  ['beet', 'cornstarch', 'salt', 'cider vinegar', 'vodka', 'sugar']),\n",
       " ('65687449',\n",
       "  ['vodka',\n",
       "   'grand marnier',\n",
       "   'amaretto',\n",
       "   'cranberry juice',\n",
       "   'orange slice',\n",
       "   'sugar']),\n",
       " ('76576175',\n",
       "  ['vodka',\n",
       "   'pineapple juice',\n",
       "   'cranberry juice',\n",
       "   'ginger ale',\n",
       "   'sugar',\n",
       "   'ice']),\n",
       " ('00656946', ['vodka', 'lime', 'cranberry juice']),\n",
       " ('01257924', ['sugar', 'hazelnut-flavored liqueur', 'vodka']),\n",
       " ('03250654', ['vodka', 'peach schnapps', 'cranberry juice'])]"
      ]
     },
     "execution_count": 44,
     "metadata": {},
     "output_type": "execute_result"
    }
   ],
   "source": [
    "query = ['vodka', 'sugar']\n",
    "ms = similarQuestion10(query)\n",
    "ms"
   ]
  }
 ],
 "metadata": {
  "kernelspec": {
   "display_name": "Wintertime",
   "language": "python",
   "name": "wintertime"
  },
  "language_info": {
   "codemirror_mode": {
    "name": "ipython",
    "version": 3
   },
   "file_extension": ".py",
   "mimetype": "text/x-python",
   "name": "python",
   "nbconvert_exporter": "python",
   "pygments_lexer": "ipython3",
   "version": "3.7.6"
  }
 },
 "nbformat": 4,
 "nbformat_minor": 2
}

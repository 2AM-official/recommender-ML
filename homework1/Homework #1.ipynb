{
 "cells": [
  {
   "cell_type": "code",
   "execution_count": 1,
   "metadata": {},
   "outputs": [],
   "source": [
    "# Import packages \n",
    "import numpy \n",
    "import scipy.optimize\n",
    "import random\n",
    "import ast"
   ]
  },
  {
   "cell_type": "code",
   "execution_count": 2,
   "metadata": {},
   "outputs": [],
   "source": [
    "# Define read data from download files\n",
    "def parseDataFromFile(fname):\n",
    "    for l in open(fname):\n",
    "        yield eval(l)"
   ]
  },
  {
   "cell_type": "markdown",
   "metadata": {},
   "source": [
    "## TASK 1 - REGRESSION"
   ]
  },
  {
   "cell_type": "code",
   "execution_count": 3,
   "metadata": {},
   "outputs": [
    {
     "name": "stdout",
     "output_type": "stream",
     "text": [
      "Reading data...\n",
      "done\n"
     ]
    }
   ],
   "source": [
    "# Read data from downloaded fantasy review\n",
    "print(\"Reading data...\") \n",
    "data = list(parseDataFromFile(\"fantasy_10000.json\"))\n",
    "print(\"done\")"
   ]
  },
  {
   "cell_type": "markdown",
   "metadata": {},
   "source": [
    "### QUESTION 2: Train the simple predictor to get theta and MSE"
   ]
  },
  {
   "cell_type": "code",
   "execution_count": 4,
   "metadata": {},
   "outputs": [],
   "source": [
    "# Define get length of review_text\n",
    "def getLength(data):\n",
    "    if \"review_text\" in data.keys():\n",
    "        return len(data[\"review_text\"])\n",
    "    else: return 0"
   ]
  },
  {
   "cell_type": "code",
   "execution_count": 5,
   "metadata": {},
   "outputs": [],
   "source": [
    "# Make feature matrix\n",
    "def feature(datum):\n",
    "    return [1, datum]\n",
    "length = [getLength(d) for d in data]"
   ]
  },
  {
   "cell_type": "code",
   "execution_count": 6,
   "metadata": {},
   "outputs": [],
   "source": [
    "# Get X and y \n",
    "X = [feature(l) for l in length]\n",
    "y = [d[\"rating\"] for d in data]"
   ]
  },
  {
   "cell_type": "code",
   "execution_count": 7,
   "metadata": {},
   "outputs": [
    {
     "name": "stdout",
     "output_type": "stream",
     "text": [
      "theta is:  [3.68568136e+00 6.87371675e-05]\n"
     ]
    },
    {
     "name": "stderr",
     "output_type": "stream",
     "text": [
      "/Users/markzuckerberg/anaconda3/envs/wintertime/lib/python3.7/site-packages/ipykernel_launcher.py:2: FutureWarning: `rcond` parameter will change to the default of machine precision times ``max(M, N)`` where M and N are the input matrix dimensions.\n",
      "To use the future default and silence this warning we advise to pass `rcond=None`, to keep using the old, explicitly pass `rcond=-1`.\n",
      "  \n"
     ]
    }
   ],
   "source": [
    "# Get theta\n",
    "theta, residuals, ranks, s = numpy.linalg.lstsq(X, y)\n",
    "print(\"theta is: \", theta)"
   ]
  },
  {
   "cell_type": "code",
   "execution_count": 8,
   "metadata": {},
   "outputs": [],
   "source": [
    "# Define getMSE to get MSE by using residuals\n",
    "def getMSE(residuals, y):\n",
    "    MSE = residuals/len(y)\n",
    "    return MSE"
   ]
  },
  {
   "cell_type": "code",
   "execution_count": 9,
   "metadata": {},
   "outputs": [
    {
     "name": "stdout",
     "output_type": "stream",
     "text": [
      "MSE is:  1.55220866223553\n"
     ]
    }
   ],
   "source": [
    "MSE = getMSE(residuals, y)\n",
    "print(\"MSE is: \", float(MSE))"
   ]
  },
  {
   "cell_type": "markdown",
   "metadata": {},
   "source": [
    "### QUESTION 3: Get one-hot encoding for the weekday and year"
   ]
  },
  {
   "cell_type": "code",
   "execution_count": 10,
   "metadata": {},
   "outputs": [],
   "source": [
    "import dateutil.parser\n",
    "# Define function to get the one-hot encoding \n",
    "def getDate(data):\n",
    "    weekday = []\n",
    "    year = []\n",
    "    for d in data:\n",
    "        t = dateutil.parser.parse(d['date_added'])\n",
    "        weekday.append(t.weekday())\n",
    "        year.append(t.year)\n",
    "    return weekday, year"
   ]
  },
  {
   "cell_type": "code",
   "execution_count": 11,
   "metadata": {},
   "outputs": [
    {
     "name": "stdout",
     "output_type": "stream",
     "text": [
      "[[0. 0. 0. 0. 0. 0. 1.]\n",
      " [0. 0. 1. 0. 0. 0. 0.]]\n",
      "[[0. 0. 0. 0. 0. 0. 0. 0. 0. 0. 0. 1.]\n",
      " [0. 0. 0. 0. 0. 0. 0. 0. 1. 0. 0. 0.]]\n"
     ]
    }
   ],
   "source": [
    "# Make the one-hot encoding of weekday and year\n",
    "weekday, year = getDate(data)\n",
    "year_min = min(year)\n",
    "year_max = max(year)\n",
    "year = numpy.eye(year_max-year_min+1)[numpy.array(year)-year_min]\n",
    "weekday = numpy.eye(7)[weekday]\n",
    "# Get the feature vecotrs for the first two examples\n",
    "print(weekday[:2])\n",
    "print(year[:2])"
   ]
  },
  {
   "cell_type": "markdown",
   "metadata": {},
   "source": [
    "### QUESTION 4: Report MSE for different feature input\n",
    "#### QUESTION 4.1: Use weekday and year directly as features"
   ]
  },
  {
   "cell_type": "code",
   "execution_count": 12,
   "metadata": {},
   "outputs": [],
   "source": [
    "# Get the feature vector \n",
    "weekday_x, year_x = getDate(data)\n",
    "x = [feature(l) for l in length]\n",
    "x = numpy.array([x[i] + [weekday_x[i], year_x[i]] for i in range(len(x))])"
   ]
  },
  {
   "cell_type": "code",
   "execution_count": 13,
   "metadata": {},
   "outputs": [
    {
     "name": "stderr",
     "output_type": "stream",
     "text": [
      "/Users/markzuckerberg/anaconda3/envs/wintertime/lib/python3.7/site-packages/ipykernel_launcher.py:1: FutureWarning: `rcond` parameter will change to the default of machine precision times ``max(M, N)`` where M and N are the input matrix dimensions.\n",
      "To use the future default and silence this warning we advise to pass `rcond=None`, to keep using the old, explicitly pass `rcond=-1`.\n",
      "  \"\"\"Entry point for launching an IPython kernel.\n"
     ]
    }
   ],
   "source": [
    "theta, residuals, rank, s = numpy.linalg.lstsq(x, y)"
   ]
  },
  {
   "cell_type": "code",
   "execution_count": 14,
   "metadata": {},
   "outputs": [
    {
     "name": "stdout",
     "output_type": "stream",
     "text": [
      "MSE of Question 4.1 is:  [1.53677405]\n"
     ]
    }
   ],
   "source": [
    "# Get MSE by using residuals\n",
    "MSE = getMSE(residuals, y)\n",
    "print(\"MSE of Question 4.1 is: \", MSE)"
   ]
  },
  {
   "cell_type": "markdown",
   "metadata": {},
   "source": [
    "#### QUESTION 4.2: Use one-hot of weekday and year as features"
   ]
  },
  {
   "cell_type": "code",
   "execution_count": 15,
   "metadata": {},
   "outputs": [],
   "source": [
    "x = numpy.array([[1]+list(year[i]) + list(weekday[i]) + feature(getLength(d)) for i, d in enumerate(data)])\n",
    "y = numpy.array(y)"
   ]
  },
  {
   "cell_type": "code",
   "execution_count": 16,
   "metadata": {},
   "outputs": [
    {
     "name": "stderr",
     "output_type": "stream",
     "text": [
      "/Users/markzuckerberg/anaconda3/envs/wintertime/lib/python3.7/site-packages/ipykernel_launcher.py:1: FutureWarning: `rcond` parameter will change to the default of machine precision times ``max(M, N)`` where M and N are the input matrix dimensions.\n",
      "To use the future default and silence this warning we advise to pass `rcond=None`, to keep using the old, explicitly pass `rcond=-1`.\n",
      "  \"\"\"Entry point for launching an IPython kernel.\n"
     ]
    }
   ],
   "source": [
    "theta,residuals,rank,s = numpy.linalg.lstsq(x, y)"
   ]
  },
  {
   "cell_type": "code",
   "execution_count": 17,
   "metadata": {},
   "outputs": [],
   "source": [
    "# Apply another way to get MSE by using formula\n",
    "def getMSE2(theta, x, y) :\n",
    "    predict = theta*x\n",
    "    predict = numpy.array(predict)\n",
    "    predict = predict.sum(axis=1)\n",
    "    error = (y - predict)\n",
    "    error = numpy.square(error)\n",
    "    error = numpy.sum(error)\n",
    "    MSE = 1/len(y)*error\n",
    "    return MSE"
   ]
  },
  {
   "cell_type": "code",
   "execution_count": 18,
   "metadata": {},
   "outputs": [
    {
     "name": "stdout",
     "output_type": "stream",
     "text": [
      "MSE for Question 4.2 is:  1.5123578656428205\n"
     ]
    }
   ],
   "source": [
    "# Use the second way to get MSE of one-hot encoding\n",
    "MSE = getMSE2(theta, x, y)\n",
    "print(\"MSE for Question 4.2 is: \", MSE)"
   ]
  },
  {
   "cell_type": "markdown",
   "metadata": {},
   "source": [
    "### QUESTION 5: Split the data into two sets and perform previous tasks\n",
    "#### QUESTION 5.1: Use weekday and year directly as features"
   ]
  },
  {
   "cell_type": "code",
   "execution_count": 19,
   "metadata": {},
   "outputs": [],
   "source": [
    "weekday_x, year_x = getDate(data)\n",
    "x = [feature(l) for l in length]\n",
    "x = numpy.array([x[i] + [weekday_x[i], year_x[i]] for i in range(len(x))])\n",
    "xy = list(zip(x, y))\n",
    "random.shuffle(xy)\n",
    "x = [d[0] for d in xy]\n",
    "y = [d[1] for d in xy]"
   ]
  },
  {
   "cell_type": "code",
   "execution_count": 20,
   "metadata": {},
   "outputs": [],
   "source": [
    "n = len(y)\n",
    "X_train = numpy.array(x[:n//2], dtype='float')\n",
    "X_test = numpy.array(x[n//2:], dtype='float')\n",
    "y_train = numpy.array(y[:n//2], dtype='float')\n",
    "y_test = numpy.array(y[n//2:], dtype='float')"
   ]
  },
  {
   "cell_type": "code",
   "execution_count": 21,
   "metadata": {},
   "outputs": [
    {
     "name": "stderr",
     "output_type": "stream",
     "text": [
      "/Users/markzuckerberg/anaconda3/envs/wintertime/lib/python3.7/site-packages/ipykernel_launcher.py:1: FutureWarning: `rcond` parameter will change to the default of machine precision times ``max(M, N)`` where M and N are the input matrix dimensions.\n",
      "To use the future default and silence this warning we advise to pass `rcond=None`, to keep using the old, explicitly pass `rcond=-1`.\n",
      "  \"\"\"Entry point for launching an IPython kernel.\n"
     ]
    }
   ],
   "source": [
    "theta,residuals,rank,s = numpy.linalg.lstsq(X_train, y_train)"
   ]
  },
  {
   "cell_type": "code",
   "execution_count": 22,
   "metadata": {},
   "outputs": [
    {
     "name": "stdout",
     "output_type": "stream",
     "text": [
      "MSE of training set:  [1.56529997]\n"
     ]
    }
   ],
   "source": [
    "MSE = getMSE(residuals, y_train)\n",
    "print(\"MSE of training set: \", MSE)"
   ]
  },
  {
   "cell_type": "code",
   "execution_count": 23,
   "metadata": {},
   "outputs": [
    {
     "name": "stderr",
     "output_type": "stream",
     "text": [
      "/Users/markzuckerberg/anaconda3/envs/wintertime/lib/python3.7/site-packages/ipykernel_launcher.py:1: FutureWarning: `rcond` parameter will change to the default of machine precision times ``max(M, N)`` where M and N are the input matrix dimensions.\n",
      "To use the future default and silence this warning we advise to pass `rcond=None`, to keep using the old, explicitly pass `rcond=-1`.\n",
      "  \"\"\"Entry point for launching an IPython kernel.\n"
     ]
    }
   ],
   "source": [
    "theta,residuals,rank,s = numpy.linalg.lstsq(X_test, y_test)"
   ]
  },
  {
   "cell_type": "code",
   "execution_count": 24,
   "metadata": {},
   "outputs": [
    {
     "name": "stdout",
     "output_type": "stream",
     "text": [
      "MSE of testing set:  [1.50734351]\n"
     ]
    }
   ],
   "source": [
    "MSE = getMSE(residuals, y_test)\n",
    "print(\"MSE of testing set: \", MSE)"
   ]
  },
  {
   "cell_type": "markdown",
   "metadata": {},
   "source": [
    "#### QUESTION 5.2"
   ]
  },
  {
   "cell_type": "code",
   "execution_count": 25,
   "metadata": {},
   "outputs": [],
   "source": [
    "weekday, year = getDate(data)\n",
    "year_min = min(year)\n",
    "year_max = max(year)\n",
    "year = numpy.eye(year_max-year_min+1)[numpy.array(year)-year_min]\n",
    "weekday = numpy.eye(7)[weekday]\n",
    "x = numpy.array([[1]+list(year[i]) + list(weekday[i]) + feature(getLength(d)) for i, d in enumerate(data)])\n",
    "y = numpy.array(y)\n",
    "xy = list(zip(x, y))\n",
    "random.shuffle(xy)\n",
    "x = [d[0] for d in xy]\n",
    "y = [d[1] for d in xy]\n",
    "n = len(y)\n",
    "X_train = numpy.array(x[:n//2], dtype='float')\n",
    "X_test = numpy.array(x[n//2:], dtype='float')\n",
    "y_train = numpy.array(y[:n//2], dtype='float')\n",
    "y_test = numpy.array(y[n//2:], dtype='float')"
   ]
  },
  {
   "cell_type": "code",
   "execution_count": 26,
   "metadata": {},
   "outputs": [
    {
     "name": "stderr",
     "output_type": "stream",
     "text": [
      "/Users/markzuckerberg/anaconda3/envs/wintertime/lib/python3.7/site-packages/ipykernel_launcher.py:1: FutureWarning: `rcond` parameter will change to the default of machine precision times ``max(M, N)`` where M and N are the input matrix dimensions.\n",
      "To use the future default and silence this warning we advise to pass `rcond=None`, to keep using the old, explicitly pass `rcond=-1`.\n",
      "  \"\"\"Entry point for launching an IPython kernel.\n"
     ]
    }
   ],
   "source": [
    "theta,residuals,rank,s = numpy.linalg.lstsq(X_train, y_train)"
   ]
  },
  {
   "cell_type": "code",
   "execution_count": 27,
   "metadata": {},
   "outputs": [
    {
     "name": "stdout",
     "output_type": "stream",
     "text": [
      "MSE of training set:  1.5341596233163826\n"
     ]
    }
   ],
   "source": [
    "MSE = getMSE2(theta, X_train, y_train)\n",
    "print(\"MSE of training set: \", MSE)"
   ]
  },
  {
   "cell_type": "code",
   "execution_count": 28,
   "metadata": {},
   "outputs": [
    {
     "name": "stderr",
     "output_type": "stream",
     "text": [
      "/Users/markzuckerberg/anaconda3/envs/wintertime/lib/python3.7/site-packages/ipykernel_launcher.py:1: FutureWarning: `rcond` parameter will change to the default of machine precision times ``max(M, N)`` where M and N are the input matrix dimensions.\n",
      "To use the future default and silence this warning we advise to pass `rcond=None`, to keep using the old, explicitly pass `rcond=-1`.\n",
      "  \"\"\"Entry point for launching an IPython kernel.\n"
     ]
    }
   ],
   "source": [
    "theta,residuals,rank,s = numpy.linalg.lstsq(X_test, y_test)"
   ]
  },
  {
   "cell_type": "code",
   "execution_count": 29,
   "metadata": {},
   "outputs": [
    {
     "name": "stdout",
     "output_type": "stream",
     "text": [
      "MSE of testing set:  1.5720403379627474\n"
     ]
    }
   ],
   "source": [
    "MSE = getMSE2(theta, X_test, y_test)\n",
    "print(\"MSE of testing set: \", MSE)"
   ]
  },
  {
   "cell_type": "markdown",
   "metadata": {},
   "source": [
    "### QUESTION 6\n",
    "\n",
    "$$\n",
    "\\mathrm{MAE}=\\frac{\\sum_{i=1}^{n}\\left|y_{i}-\\hat{y_{i}}\\right|}{n}\n",
    "$$\n",
    "We assume that **a trivial predictor: $y = \\theta_{0}$**, and only consider $\\sum_{i=1}^{n}\\left|y_{i}-\\hat{y_{i}}\\right|$, the formula can be expressed as:\n",
    "$$\n",
    "\\begin{aligned} f(\\theta_{0}) &= \\sum_{i}^{n}\\left|{y_{i}}-\\theta_{0}\\right| \\\\ \n",
    "&=\\sum_{i}^{k}\\left(\\theta_{0}-{y_{i}}\\right)+\\sum_{j}^{n-k}\\left(\\{y_{j}-\\theta\\right) \\end{aligned}\n",
    "$$\n",
    "where $\\left|y_{i}-\\theta_{0}\\right|$ is divided as a part: $\\theta_{0} >= {y_{i}}$ which has $k$ values and another part: $y_{i} > \\theta_{0}$ which has $n- k$ values.\n",
    "\n",
    "The derivative of $f(\\theta_{0})$ is: \n",
    "$$\n",
    "\\frac{\\partial f(\\theta_{0})}{\\partial \\theta_{0}}=2 k-n\n",
    "$$\n",
    "When $k = n/2$, the derivative of $theta_{0}$ is equal to 0. Therefore, when $\\theta$ is larger than half number of $y$, $k$ equals to $n/2$, which indicates that $k$ is the medians of $y$.\n"
   ]
  },
  {
   "cell_type": "markdown",
   "metadata": {},
   "source": [
    "## TASK 2 - CLASSIFICATION"
   ]
  },
  {
   "cell_type": "code",
   "execution_count": 30,
   "metadata": {},
   "outputs": [
    {
     "name": "stdout",
     "output_type": "stream",
     "text": [
      "Reading data...\n",
      "done\n"
     ]
    }
   ],
   "source": [
    "# Read data from the beer dataset\n",
    "print(\"Reading data...\")\n",
    "dataBeer = list(parseDataFromFile(\"beer_50000.json\"))\n",
    "print(\"done\")"
   ]
  },
  {
   "cell_type": "markdown",
   "metadata": {},
   "source": [
    "### QUESTION 7: Perform logistic regressor"
   ]
  },
  {
   "cell_type": "code",
   "execution_count": 31,
   "metadata": {},
   "outputs": [],
   "source": [
    "# y = [d[’review/overall’] >= 4 for d in dataset]\n",
    "def getY(data):\n",
    "    if data[\"review/overall\"] >= 4:\n",
    "        return 1\n",
    "    else:\n",
    "        return 0"
   ]
  },
  {
   "cell_type": "code",
   "execution_count": 32,
   "metadata": {},
   "outputs": [],
   "source": [
    "# Get length of the \"review/text\" data\n",
    "def getReviewLength(data):\n",
    "    if \"review/text\" in data.keys():\n",
    "        return len(data[\"review/text\"])\n",
    "    else: return 0\n",
    "    \n",
    "def feature(datum):\n",
    "    return [1, datum]"
   ]
  },
  {
   "cell_type": "code",
   "execution_count": 33,
   "metadata": {},
   "outputs": [],
   "source": [
    "reviewLength = [getReviewLength(d) for d in dataBeer]\n",
    "X = [feature(l) for l in reviewLength]\n",
    "y = [getY(d) for d in dataBeer]"
   ]
  },
  {
   "cell_type": "code",
   "execution_count": 34,
   "metadata": {},
   "outputs": [],
   "source": [
    "# shuffle the data\n",
    "xy = list(zip(X, y))\n",
    "random.shuffle(xy)\n",
    "x = [d[0] for d in xy]\n",
    "y = [d[1] for d in xy]"
   ]
  },
  {
   "cell_type": "code",
   "execution_count": 35,
   "metadata": {},
   "outputs": [],
   "source": [
    "# Split the data with 4/5 as training set and 1/5 as testing set\n",
    "n = len(xy)\n",
    "n_train = (4/5)*n\n",
    "n_test = (1/5)*n"
   ]
  },
  {
   "cell_type": "code",
   "execution_count": 36,
   "metadata": {},
   "outputs": [
    {
     "data": {
      "text/plain": [
       "10000"
      ]
     },
     "execution_count": 36,
     "metadata": {},
     "output_type": "execute_result"
    }
   ],
   "source": [
    "x_train = x[:int(n_train)]\n",
    "x_test = x[int(n_train):]\n",
    "y_train = y[:int(n_train)]\n",
    "y_test = y[int(n_train):]\n",
    "len(y_test)"
   ]
  },
  {
   "cell_type": "code",
   "execution_count": 37,
   "metadata": {},
   "outputs": [
    {
     "data": {
      "text/plain": [
       "LogisticRegression(C=1.0, class_weight='balanced', dual=False,\n",
       "                   fit_intercept=True, intercept_scaling=1, l1_ratio=None,\n",
       "                   max_iter=100, multi_class='auto', n_jobs=None, penalty='l2',\n",
       "                   random_state=None, solver='lbfgs', tol=0.0001, verbose=0,\n",
       "                   warm_start=False)"
      ]
     },
     "execution_count": 37,
     "metadata": {},
     "output_type": "execute_result"
    }
   ],
   "source": [
    "# Train the model by setting class_weight = 'balanced'\n",
    "from sklearn import linear_model\n",
    "mod = linear_model.LogisticRegression(C=1.0, class_weight='balanced') \n",
    "mod.fit(x_train, y_train)"
   ]
  },
  {
   "cell_type": "code",
   "execution_count": 38,
   "metadata": {},
   "outputs": [],
   "source": [
    "pred = mod.predict(x_test)\n",
    "correct = pred == y_test"
   ]
  },
  {
   "cell_type": "code",
   "execution_count": 39,
   "metadata": {},
   "outputs": [],
   "source": [
    "TP_ = numpy.logical_and(pred, y_test)\n",
    "FP_ = numpy.logical_and(pred, numpy.logical_not(y_test))\n",
    "TN_ = numpy.logical_and(numpy.logical_not(pred), numpy.logical_not(y_test))\n",
    "FN_ = numpy.logical_and(numpy.logical_not(pred), y_test)"
   ]
  },
  {
   "cell_type": "code",
   "execution_count": 40,
   "metadata": {},
   "outputs": [
    {
     "name": "stdout",
     "output_type": "stream",
     "text": [
      "TP is:  2858\n",
      "FP is:  1166\n",
      "TN is:  2083\n",
      "FN is:  3893\n"
     ]
    }
   ],
   "source": [
    "TP = sum(TP_)\n",
    "FP = sum(FP_)\n",
    "TN = sum(TN_)\n",
    "FN = sum(FN_)\n",
    "# Print the result\n",
    "print(\"TP is: \", TP)\n",
    "print(\"FP is: \", FP)\n",
    "print(\"TN is: \", TN)\n",
    "print(\"FN is: \", FN)"
   ]
  },
  {
   "cell_type": "code",
   "execution_count": 41,
   "metadata": {},
   "outputs": [
    {
     "name": "stdout",
     "output_type": "stream",
     "text": [
      "Balanced Error Rates of the predictor is:  0.46776748280147185\n"
     ]
    }
   ],
   "source": [
    "# BER\n",
    "BER = 1 - 0.5 * (TP / (TP + FN) + TN / (TN + FP))\n",
    "print(\"Balanced Error Rates of the predictor is: \", BER)"
   ]
  },
  {
   "cell_type": "markdown",
   "metadata": {},
   "source": [
    "### QUSTION 8: Plot the precision@K  "
   ]
  },
  {
   "cell_type": "code",
   "execution_count": 42,
   "metadata": {},
   "outputs": [],
   "source": [
    "scores = mod.decision_function(x_test)\n",
    "scores_labels = list(zip(scores, y_test))\n",
    "scores_labels.sort(reverse = True)\n",
    "sortedlabels = [x[1] for x in scores_labels]"
   ]
  },
  {
   "cell_type": "code",
   "execution_count": 43,
   "metadata": {},
   "outputs": [],
   "source": [
    "x_axis = [i for i in range(1, 10000)]\n",
    "y_axis = [sum(sortedlabels[:i])/ i for i in x_axis]"
   ]
  },
  {
   "cell_type": "code",
   "execution_count": 44,
   "metadata": {},
   "outputs": [
    {
     "data": {
      "text/plain": [
       "<function matplotlib.pyplot.show(*args, **kw)>"
      ]
     },
     "execution_count": 44,
     "metadata": {},
     "output_type": "execute_result"
    },
    {
     "data": {
      "image/png": "[encoded data removed]",
      "text/plain": [
       "<Figure size 432x288 with 1 Axes>"
      ]
     },
     "metadata": {
      "needs_background": "light"
     },
     "output_type": "display_data"
    }
   ],
   "source": [
    "import matplotlib.pyplot as plt\n",
    "plt.plot(x_axis, y_axis)\n",
    "plt.show"
   ]
  },
  {
   "cell_type": "markdown",
   "metadata": {},
   "source": [
    "### QUESTION 9: "
   ]
  },
  {
   "cell_type": "code",
   "execution_count": 45,
   "metadata": {},
   "outputs": [],
   "source": [
    "scores = mod.decision_function(x_test)\n",
    "temp = (scores > 0).astype(numpy.int)\n",
    "scores = abs(scores)\n",
    "scores_labels = list(zip(scores,temp,y_test))\n",
    "scores_labels.sort(reverse = True)\n",
    "sortedlabels = [(1 if item[1] == item[2] else 0) for item in scores_labels]"
   ]
  },
  {
   "cell_type": "code",
   "execution_count": 46,
   "metadata": {},
   "outputs": [
    {
     "name": "stdout",
     "output_type": "stream",
     "text": [
      "precision@1:  1.0\n",
      "precision@100:  0.7\n",
      "precision@10000:  0.4941\n"
     ]
    }
   ],
   "source": [
    "precision_1 = sortedlabels[0]/1\n",
    "print(\"precision@1: \", precision_1)\n",
    "precision_100 = sum(sortedlabels[:100])/ 100\n",
    "print(\"precision@100: \", precision_100)\n",
    "precision_10000 = sum(sortedlabels[:10000])/10000\n",
    "print(\"precision@10000: \", precision_10000)"
   ]
  },
  {
   "cell_type": "code",
   "execution_count": 47,
   "metadata": {},
   "outputs": [
    {
     "data": {
      "text/plain": [
       "<function matplotlib.pyplot.show(*args, **kw)>"
      ]
     },
     "execution_count": 47,
     "metadata": {},
     "output_type": "execute_result"
    },
    {
     "data": {
      "image/png": "[encoded data removed]",
      "text/plain": [
       "<Figure size 432x288 with 1 Axes>"
      ]
     },
     "metadata": {
      "needs_background": "light"
     },
     "output_type": "display_data"
    }
   ],
   "source": [
    "x_axis = [i for i in range(1, 10000)]\n",
    "y_axis = [sum(sortedlabels[:i])/ i for i in x_axis]\n",
    "plt.plot(x_axis, y_axis)\n",
    "plt.show"
   ]
  }
 ],
 "metadata": {
  "kernelspec": {
   "display_name": "Wintertime",
   "language": "python",
   "name": "wintertime"
  },
  "language_info": {
   "codemirror_mode": {
    "name": "ipython",
    "version": 3
   },
   "file_extension": ".py",
   "mimetype": "text/x-python",
   "name": "python",
   "nbconvert_exporter": "python",
   "pygments_lexer": "ipython3",
   "version": "3.7.6"
  }
 },
 "nbformat": 4,
 "nbformat_minor": 2
}
